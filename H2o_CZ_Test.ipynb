{
 "cells": [
  {
   "cell_type": "code",
   "execution_count": 4,
   "metadata": {
    "collapsed": true
   },
   "outputs": [],
   "source": [
    "# Import the H2O \n",
    "import h2o"
   ]
  },
  {
   "cell_type": "code",
   "execution_count": 3,
   "metadata": {},
   "outputs": [
    {
     "name": "stdout",
     "output_type": "stream",
     "text": [
      "Collecting h2o\n",
      "Collecting tabulate (from h2o)\n",
      "Collecting future (from h2o)\n",
      "Requirement already satisfied: requests in /home/kamran/anaconda3/lib/python3.6/site-packages (from h2o)\n",
      "Requirement already satisfied: colorama>=0.3.8 in /home/kamran/anaconda3/lib/python3.6/site-packages (from h2o)\n",
      "Installing collected packages: tabulate, future, h2o\n",
      "Successfully installed future-0.16.0 h2o-3.18.0.5 tabulate-0.8.2\n",
      "\u001b[33mYou are using pip version 9.0.1, however version 9.0.3 is available.\n",
      "You should consider upgrading via the 'pip install --upgrade pip' command.\u001b[0m\n"
     ]
    }
   ],
   "source": [
    "!pip install h2o"
   ]
  },
  {
   "cell_type": "code",
   "execution_count": 1,
   "metadata": {
    "collapsed": true
   },
   "outputs": [],
   "source": [
    "import h2o"
   ]
  },
  {
   "cell_type": "code",
   "execution_count": 3,
   "metadata": {},
   "outputs": [
    {
     "name": "stdout",
     "output_type": "stream",
     "text": [
      "Checking whether there is an H2O instance running at http://localhost:54321..... not found.\n",
      "Attempting to start a local H2O server...\n",
      "  Java Version: openjdk version \"1.8.0_121\"; OpenJDK Runtime Environment (Zulu 8.20.0.5-linux64) (build 1.8.0_121-b15); OpenJDK 64-Bit Server VM (Zulu 8.20.0.5-linux64) (build 25.121-b15, mixed mode)\n",
      "  Starting server from /home/kamran/anaconda3/lib/python3.6/site-packages/h2o/backend/bin/h2o.jar\n",
      "  Ice root: /tmp/tmp50a7z4zx\n",
      "  JVM stdout: /tmp/tmp50a7z4zx/h2o_kamran_started_from_python.out\n",
      "  JVM stderr: /tmp/tmp50a7z4zx/h2o_kamran_started_from_python.err\n",
      "  Server is running at http://127.0.0.1:54321\n",
      "Connecting to H2O server at http://127.0.0.1:54321... successful.\n"
     ]
    },
    {
     "data": {
      "text/html": [
       "<div style=\"overflow:auto\"><table style=\"width:50%\"><tr><td>H2O cluster uptime:</td>\n",
       "<td>03 secs</td></tr>\n",
       "<tr><td>H2O cluster timezone:</td>\n",
       "<td>Asia/Kolkata</td></tr>\n",
       "<tr><td>H2O data parsing timezone:</td>\n",
       "<td>UTC</td></tr>\n",
       "<tr><td>H2O cluster version:</td>\n",
       "<td>3.18.0.5</td></tr>\n",
       "<tr><td>H2O cluster version age:</td>\n",
       "<td>19 days </td></tr>\n",
       "<tr><td>H2O cluster name:</td>\n",
       "<td>H2O_from_python_kamran_g0tr7w</td></tr>\n",
       "<tr><td>H2O cluster total nodes:</td>\n",
       "<td>1</td></tr>\n",
       "<tr><td>H2O cluster free memory:</td>\n",
       "<td>3.465 Gb</td></tr>\n",
       "<tr><td>H2O cluster total cores:</td>\n",
       "<td>4</td></tr>\n",
       "<tr><td>H2O cluster allowed cores:</td>\n",
       "<td>4</td></tr>\n",
       "<tr><td>H2O cluster status:</td>\n",
       "<td>accepting new members, healthy</td></tr>\n",
       "<tr><td>H2O connection url:</td>\n",
       "<td>http://127.0.0.1:54321</td></tr>\n",
       "<tr><td>H2O connection proxy:</td>\n",
       "<td>None</td></tr>\n",
       "<tr><td>H2O internal security:</td>\n",
       "<td>False</td></tr>\n",
       "<tr><td>H2O API Extensions:</td>\n",
       "<td>XGBoost, Algos, AutoML, Core V3, Core V4</td></tr>\n",
       "<tr><td>Python version:</td>\n",
       "<td>3.6.1 final</td></tr></table></div>"
      ],
      "text/plain": [
       "--------------------------  ----------------------------------------\n",
       "H2O cluster uptime:         03 secs\n",
       "H2O cluster timezone:       Asia/Kolkata\n",
       "H2O data parsing timezone:  UTC\n",
       "H2O cluster version:        3.18.0.5\n",
       "H2O cluster version age:    19 days\n",
       "H2O cluster name:           H2O_from_python_kamran_g0tr7w\n",
       "H2O cluster total nodes:    1\n",
       "H2O cluster free memory:    3.465 Gb\n",
       "H2O cluster total cores:    4\n",
       "H2O cluster allowed cores:  4\n",
       "H2O cluster status:         accepting new members, healthy\n",
       "H2O connection url:         http://127.0.0.1:54321\n",
       "H2O connection proxy:\n",
       "H2O internal security:      False\n",
       "H2O API Extensions:         XGBoost, Algos, AutoML, Core V3, Core V4\n",
       "Python version:             3.6.1 final\n",
       "--------------------------  ----------------------------------------"
      ]
     },
     "metadata": {},
     "output_type": "display_data"
    }
   ],
   "source": [
    "from h2o.automl import H2OAutoML\n",
    "h2o.init()"
   ]
  },
  {
   "cell_type": "markdown",
   "metadata": {},
   "source": [
    "# For testing purpose only"
   ]
  },
  {
   "cell_type": "code",
   "execution_count": 4,
   "metadata": {
    "collapsed": true
   },
   "outputs": [],
   "source": [
    "data_path = \"https://github.com/h2oai/h2o-tutorials/raw/master/h2o-world-2017/automl/data/product_backorders.csv\""
   ]
  },
  {
   "cell_type": "code",
   "execution_count": 5,
   "metadata": {},
   "outputs": [
    {
     "name": "stdout",
     "output_type": "stream",
     "text": [
      "Parse progress: |█████████████████████████████████████████████████████████| 100%\n"
     ]
    }
   ],
   "source": [
    "df = h2o.import_file(data_path)"
   ]
  },
  {
   "cell_type": "code",
   "execution_count": 6,
   "metadata": {},
   "outputs": [
    {
     "name": "stdout",
     "output_type": "stream",
     "text": [
      "Rows:19053\n",
      "Cols:23\n",
      "\n",
      "\n"
     ]
    },
    {
     "data": {
      "text/html": [
       "<table>\n",
       "<thead>\n",
       "<tr><th>       </th><th>sku              </th><th>national_inv      </th><th>lead_time        </th><th>in_transit_qty   </th><th>forecast_3_month  </th><th>forecast_6_month  </th><th>forecast_9_month  </th><th>sales_1_month     </th><th>sales_3_month    </th><th>sales_6_month     </th><th>sales_9_month     </th><th>min_bank         </th><th>potential_issue  </th><th>pieces_past_due   </th><th>perf_6_month_avg  </th><th>perf_12_month_avg  </th><th>local_bo_qty      </th><th>deck_risk  </th><th>oe_constraint  </th><th>ppap_risk  </th><th>stop_auto_buy  </th><th>rev_stop  </th><th>went_on_backorder  </th></tr>\n",
       "</thead>\n",
       "<tbody>\n",
       "<tr><td>type   </td><td>int              </td><td>int               </td><td>int              </td><td>int              </td><td>int               </td><td>int               </td><td>int               </td><td>int               </td><td>int              </td><td>int               </td><td>int               </td><td>int              </td><td>enum             </td><td>int               </td><td>real              </td><td>real               </td><td>int               </td><td>enum       </td><td>enum           </td><td>enum       </td><td>enum           </td><td>enum      </td><td>enum               </td></tr>\n",
       "<tr><td>mins   </td><td>1111620.0        </td><td>-1440.0           </td><td>0.0              </td><td>0.0              </td><td>0.0               </td><td>0.0               </td><td>0.0               </td><td>0.0               </td><td>0.0              </td><td>0.0               </td><td>0.0               </td><td>0.0              </td><td>                 </td><td>0.0               </td><td>-99.0             </td><td>-99.0              </td><td>0.0               </td><td>           </td><td>               </td><td>           </td><td>               </td><td>          </td><td>                   </td></tr>\n",
       "<tr><td>mean   </td><td>2059552.760562637</td><td>376.36702881436105</td><td>7.706036161335169</td><td>48.2723455623786 </td><td>182.91082769117787</td><td>344.7398309977432 </td><td>497.7924211410277 </td><td>56.118878916705825</td><td>168.5344565160339</td><td>333.53219965359915</td><td>504.25539285151933</td><td>48.84070750013141</td><td>                 </td><td>2.3114995013908555</td><td>-6.519833622001735</td><td>-6.053935338266914 </td><td>0.8917755734005138</td><td>           </td><td>               </td><td>           </td><td>               </td><td>          </td><td>                   </td></tr>\n",
       "<tr><td>maxs   </td><td>3284775.0        </td><td>730722.0          </td><td>52.0             </td><td>170920.0         </td><td>479808.0          </td><td>967776.0          </td><td>1418208.0         </td><td>186451.0          </td><td>550609.0         </td><td>1136154.0         </td><td>1759152.0         </td><td>85584.0          </td><td>                 </td><td>13824.0           </td><td>1.0               </td><td>1.0                </td><td>1440.0            </td><td>           </td><td>               </td><td>           </td><td>               </td><td>          </td><td>                   </td></tr>\n",
       "<tr><td>sigma  </td><td>663337.6456498688</td><td>7002.0716286626675</td><td>6.778665072124194</td><td>1465.999210206827</td><td>4304.865591970639 </td><td>8406.062155159232 </td><td>12180.570042918358</td><td>1544.2177775482546</td><td>4581.340080221499</td><td>9294.566153218979 </td><td>14184.145395653633</td><td>968.7738680675252</td><td>                 </td><td>110.24106014611986</td><td>25.975138766871826</td><td>25.184497150032502 </td><td>23.033345417338797</td><td>           </td><td>               </td><td>           </td><td>               </td><td>          </td><td>                   </td></tr>\n",
       "<tr><td>zeros  </td><td>0                </td><td>1858              </td><td>121              </td><td>15432            </td><td>12118             </td><td>11136             </td><td>10604             </td><td>10278             </td><td>8022             </td><td>6864              </td><td>6231              </td><td>9909             </td><td>                 </td><td>18601             </td><td>474               </td><td>401                </td><td>18585             </td><td>           </td><td>               </td><td>           </td><td>               </td><td>          </td><td>                   </td></tr>\n",
       "<tr><td>missing</td><td>0                </td><td>0                 </td><td>1078             </td><td>0                </td><td>0                 </td><td>0                 </td><td>0                 </td><td>0                 </td><td>0                </td><td>0                 </td><td>0                 </td><td>0                </td><td>0                </td><td>0                 </td><td>0                 </td><td>0                  </td><td>0                 </td><td>0          </td><td>0              </td><td>0          </td><td>0              </td><td>0         </td><td>0                  </td></tr>\n",
       "<tr><td>0      </td><td>1113121.0        </td><td>0.0               </td><td>8.0              </td><td>1.0              </td><td>6.0               </td><td>6.0               </td><td>6.0               </td><td>0.0               </td><td>4.0              </td><td>9.0               </td><td>12.0              </td><td>0.0              </td><td>No               </td><td>1.0               </td><td>0.9               </td><td>0.89               </td><td>0.0               </td><td>No         </td><td>No             </td><td>No         </td><td>Yes            </td><td>No        </td><td>Yes                </td></tr>\n",
       "<tr><td>1      </td><td>1113268.0        </td><td>0.0               </td><td>8.0              </td><td>0.0              </td><td>2.0               </td><td>3.0               </td><td>4.0               </td><td>1.0               </td><td>2.0              </td><td>3.0               </td><td>3.0               </td><td>0.0              </td><td>No               </td><td>0.0               </td><td>0.96              </td><td>0.97               </td><td>0.0               </td><td>No         </td><td>No             </td><td>No         </td><td>Yes            </td><td>No        </td><td>Yes                </td></tr>\n",
       "<tr><td>2      </td><td>1113874.0        </td><td>20.0              </td><td>2.0              </td><td>0.0              </td><td>45.0              </td><td>99.0              </td><td>153.0             </td><td>16.0              </td><td>42.0             </td><td>80.0              </td><td>111.0             </td><td>10.0             </td><td>No               </td><td>0.0               </td><td>0.81              </td><td>0.88               </td><td>0.0               </td><td>No         </td><td>No             </td><td>No         </td><td>Yes            </td><td>No        </td><td>Yes                </td></tr>\n",
       "<tr><td>3      </td><td>1114222.0        </td><td>0.0               </td><td>8.0              </td><td>0.0              </td><td>9.0               </td><td>14.0              </td><td>21.0              </td><td>5.0               </td><td>17.0             </td><td>36.0              </td><td>43.0              </td><td>0.0              </td><td>No               </td><td>0.0               </td><td>0.96              </td><td>0.98               </td><td>0.0               </td><td>No         </td><td>No             </td><td>No         </td><td>Yes            </td><td>No        </td><td>Yes                </td></tr>\n",
       "<tr><td>4      </td><td>1114823.0        </td><td>0.0               </td><td>12.0             </td><td>0.0              </td><td>31.0              </td><td>31.0              </td><td>31.0              </td><td>7.0               </td><td>15.0             </td><td>33.0              </td><td>47.0              </td><td>2.0              </td><td>No               </td><td>3.0               </td><td>0.98              </td><td>0.98               </td><td>0.0               </td><td>No         </td><td>No             </td><td>No         </td><td>Yes            </td><td>No        </td><td>Yes                </td></tr>\n",
       "<tr><td>5      </td><td>1115453.0        </td><td>55.0              </td><td>8.0              </td><td>0.0              </td><td>216.0             </td><td>360.0             </td><td>492.0             </td><td>30.0              </td><td>108.0            </td><td>275.0             </td><td>340.0             </td><td>51.0             </td><td>No               </td><td>0.0               </td><td>0.0               </td><td>0.0                </td><td>0.0               </td><td>No         </td><td>No             </td><td>Yes        </td><td>Yes            </td><td>No        </td><td>Yes                </td></tr>\n",
       "<tr><td>6      </td><td>1115620.0        </td><td>-34.0             </td><td>8.0              </td><td>0.0              </td><td>120.0             </td><td>240.0             </td><td>240.0             </td><td>83.0              </td><td>122.0            </td><td>144.0             </td><td>165.0             </td><td>33.0             </td><td>No               </td><td>0.0               </td><td>1.0               </td><td>0.97               </td><td>34.0              </td><td>No         </td><td>No             </td><td>No         </td><td>Yes            </td><td>No        </td><td>Yes                </td></tr>\n",
       "<tr><td>7      </td><td>1116446.0        </td><td>4.0               </td><td>9.0              </td><td>0.0              </td><td>43.0              </td><td>67.0              </td><td>115.0             </td><td>5.0               </td><td>22.0             </td><td>40.0              </td><td>58.0              </td><td>4.0              </td><td>No               </td><td>0.0               </td><td>0.69              </td><td>0.68               </td><td>0.0               </td><td>No         </td><td>No             </td><td>No         </td><td>Yes            </td><td>No        </td><td>Yes                </td></tr>\n",
       "<tr><td>8      </td><td>1116834.0        </td><td>2.0               </td><td>8.0              </td><td>0.0              </td><td>4.0               </td><td>6.0               </td><td>9.0               </td><td>1.0               </td><td>5.0              </td><td>6.0               </td><td>9.0               </td><td>2.0              </td><td>No               </td><td>0.0               </td><td>1.0               </td><td>0.95               </td><td>0.0               </td><td>No         </td><td>No             </td><td>No         </td><td>Yes            </td><td>No        </td><td>Yes                </td></tr>\n",
       "<tr><td>9      </td><td>1116868.0        </td><td>-7.0              </td><td>8.0              </td><td>0.0              </td><td>56.0              </td><td>96.0              </td><td>112.0             </td><td>13.0              </td><td>30.0             </td><td>56.0              </td><td>76.0              </td><td>0.0              </td><td>No               </td><td>0.0               </td><td>0.97              </td><td>0.92               </td><td>7.0               </td><td>No         </td><td>No             </td><td>No         </td><td>Yes            </td><td>No        </td><td>Yes                </td></tr>\n",
       "</tbody>\n",
       "</table>"
      ]
     },
     "metadata": {},
     "output_type": "display_data"
    }
   ],
   "source": [
    "df.describe()"
   ]
  },
  {
   "cell_type": "code",
   "execution_count": 7,
   "metadata": {
    "collapsed": true
   },
   "outputs": [],
   "source": [
    "y = \"went_on_backorder\"\n",
    "x = df.columns\n",
    "x.remove(y)\n",
    "x.remove('sku')"
   ]
  },
  {
   "cell_type": "markdown",
   "metadata": {},
   "source": [
    "# Run AutoML"
   ]
  },
  {
   "cell_type": "markdown",
   "metadata": {},
   "source": [
    "Run AutoML, stopping after 10 models. The max_models argument specifies the number of individual (or \"base\") models, and does not include the two ensemble models that are trained at the end."
   ]
  },
  {
   "cell_type": "code",
   "execution_count": 8,
   "metadata": {},
   "outputs": [
    {
     "name": "stdout",
     "output_type": "stream",
     "text": [
      "AutoML progress: |████████████████████████████████████████████████████████| 100%\n",
      "Parse progress: |█████████████████████████████████████████████████████████| 100%\n"
     ]
    }
   ],
   "source": [
    "aml = H2OAutoML(max_models = 10, seed = 1)\n",
    "aml.train(x = x, y = y, training_frame = df)"
   ]
  },
  {
   "cell_type": "code",
   "execution_count": 9,
   "metadata": {
    "collapsed": true
   },
   "outputs": [],
   "source": [
    "lb = aml.leaderboard"
   ]
  },
  {
   "cell_type": "code",
   "execution_count": 10,
   "metadata": {},
   "outputs": [
    {
     "data": {
      "text/html": [
       "<table>\n",
       "<thead>\n",
       "<tr><th>model_id                                             </th><th style=\"text-align: right;\">     auc</th><th style=\"text-align: right;\">  logloss</th></tr>\n",
       "</thead>\n",
       "<tbody>\n",
       "<tr><td>StackedEnsemble_AllModels_0_AutoML_20180417_122417   </td><td style=\"text-align: right;\">0.947734</td><td style=\"text-align: right;\"> 0.183736</td></tr>\n",
       "<tr><td>GBM_grid_0_AutoML_20180417_122417_model_3            </td><td style=\"text-align: right;\">0.946714</td><td style=\"text-align: right;\"> 0.175636</td></tr>\n",
       "<tr><td>StackedEnsemble_BestOfFamily_0_AutoML_20180417_122417</td><td style=\"text-align: right;\">0.946149</td><td style=\"text-align: right;\"> 0.184867</td></tr>\n",
       "<tr><td>GBM_grid_0_AutoML_20180417_122417_model_2            </td><td style=\"text-align: right;\">0.945473</td><td style=\"text-align: right;\"> 0.178495</td></tr>\n",
       "<tr><td>GBM_grid_0_AutoML_20180417_122417_model_4            </td><td style=\"text-align: right;\">0.944569</td><td style=\"text-align: right;\"> 0.179424</td></tr>\n",
       "<tr><td>GBM_grid_0_AutoML_20180417_122417_model_1            </td><td style=\"text-align: right;\">0.94306 </td><td style=\"text-align: right;\"> 0.181671</td></tr>\n",
       "<tr><td>GBM_grid_0_AutoML_20180417_122417_model_0            </td><td style=\"text-align: right;\">0.941119</td><td style=\"text-align: right;\"> 0.185334</td></tr>\n",
       "<tr><td>XRT_0_AutoML_20180417_122417                         </td><td style=\"text-align: right;\">0.929782</td><td style=\"text-align: right;\"> 0.214572</td></tr>\n",
       "<tr><td>GBM_grid_0_AutoML_20180417_122417_model_5            </td><td style=\"text-align: right;\">0.924205</td><td style=\"text-align: right;\"> 0.34039 </td></tr>\n",
       "<tr><td>DRF_0_AutoML_20180417_122417                         </td><td style=\"text-align: right;\">0.921531</td><td style=\"text-align: right;\"> 0.227156</td></tr>\n",
       "</tbody>\n",
       "</table>"
      ]
     },
     "metadata": {},
     "output_type": "display_data"
    },
    {
     "data": {
      "text/plain": []
     },
     "execution_count": 10,
     "metadata": {},
     "output_type": "execute_result"
    }
   ],
   "source": [
    "lb.head()"
   ]
  },
  {
   "cell_type": "code",
   "execution_count": 11,
   "metadata": {},
   "outputs": [
    {
     "data": {
      "text/html": [
       "<table>\n",
       "<thead>\n",
       "<tr><th>model_id                                             </th><th style=\"text-align: right;\">     auc</th><th style=\"text-align: right;\">  logloss</th></tr>\n",
       "</thead>\n",
       "<tbody>\n",
       "<tr><td>StackedEnsemble_AllModels_0_AutoML_20180417_122417   </td><td style=\"text-align: right;\">0.947734</td><td style=\"text-align: right;\"> 0.183736</td></tr>\n",
       "<tr><td>GBM_grid_0_AutoML_20180417_122417_model_3            </td><td style=\"text-align: right;\">0.946714</td><td style=\"text-align: right;\"> 0.175636</td></tr>\n",
       "<tr><td>StackedEnsemble_BestOfFamily_0_AutoML_20180417_122417</td><td style=\"text-align: right;\">0.946149</td><td style=\"text-align: right;\"> 0.184867</td></tr>\n",
       "<tr><td>GBM_grid_0_AutoML_20180417_122417_model_2            </td><td style=\"text-align: right;\">0.945473</td><td style=\"text-align: right;\"> 0.178495</td></tr>\n",
       "<tr><td>GBM_grid_0_AutoML_20180417_122417_model_4            </td><td style=\"text-align: right;\">0.944569</td><td style=\"text-align: right;\"> 0.179424</td></tr>\n",
       "<tr><td>GBM_grid_0_AutoML_20180417_122417_model_1            </td><td style=\"text-align: right;\">0.94306 </td><td style=\"text-align: right;\"> 0.181671</td></tr>\n",
       "<tr><td>GBM_grid_0_AutoML_20180417_122417_model_0            </td><td style=\"text-align: right;\">0.941119</td><td style=\"text-align: right;\"> 0.185334</td></tr>\n",
       "<tr><td>XRT_0_AutoML_20180417_122417                         </td><td style=\"text-align: right;\">0.929782</td><td style=\"text-align: right;\"> 0.214572</td></tr>\n",
       "<tr><td>GBM_grid_0_AutoML_20180417_122417_model_5            </td><td style=\"text-align: right;\">0.924205</td><td style=\"text-align: right;\"> 0.34039 </td></tr>\n",
       "<tr><td>DRF_0_AutoML_20180417_122417                         </td><td style=\"text-align: right;\">0.921531</td><td style=\"text-align: right;\"> 0.227156</td></tr>\n",
       "<tr><td>GLM_grid_0_AutoML_20180417_122417_model_0            </td><td style=\"text-align: right;\">0.731276</td><td style=\"text-align: right;\"> 0.340523</td></tr>\n",
       "<tr><td>DeepLearning_0_AutoML_20180417_122417                </td><td style=\"text-align: right;\">0.592474</td><td style=\"text-align: right;\"> 1.30463 </td></tr>\n",
       "</tbody>\n",
       "</table>"
      ]
     },
     "metadata": {},
     "output_type": "display_data"
    },
    {
     "data": {
      "text/plain": []
     },
     "execution_count": 11,
     "metadata": {},
     "output_type": "execute_result"
    }
   ],
   "source": [
    "lb.head(rows=lb.nrows)"
   ]
  },
  {
   "cell_type": "markdown",
   "metadata": {},
   "source": [
    "# On CZ data"
   ]
  },
  {
   "cell_type": "code",
   "execution_count": 15,
   "metadata": {
    "collapsed": true
   },
   "outputs": [],
   "source": [
    "# loading the data\n",
    "data_path = \"/home/kamran/CZ_Credit_Score/CZ_Data/CZ_FINAL_DATA/final_data.csv\""
   ]
  },
  {
   "cell_type": "code",
   "execution_count": 16,
   "metadata": {},
   "outputs": [
    {
     "name": "stdout",
     "output_type": "stream",
     "text": [
      "Parse progress: |█████████████████████████████████████████████████████████| 100%\n"
     ]
    }
   ],
   "source": [
    "df = h2o.import_file(data_path)"
   ]
  },
  {
   "cell_type": "code",
   "execution_count": 17,
   "metadata": {},
   "outputs": [
    {
     "name": "stdout",
     "output_type": "stream",
     "text": [
      "Rows:682\n",
      "Cols:16\n",
      "\n",
      "\n"
     ]
    },
    {
     "data": {
      "text/html": [
       "<table>\n",
       "<thead>\n",
       "<tr><th>       </th><th>VYBER             </th><th>credit           </th><th>withdrawal        </th><th>total_type_count  </th><th>collection_from_another_bank  </th><th>credit_card_withdrawal  </th><th>credit_in_cash    </th><th>other            </th><th>remittance_to_another_bank  </th><th>withdrawal_in_cash  </th><th>status  </th><th>gender  </th><th>age               </th><th>region       </th><th>avg_salary        </th><th>type_card  </th></tr>\n",
       "</thead>\n",
       "<tbody>\n",
       "<tr><td>type   </td><td>int               </td><td>int              </td><td>int               </td><td>int               </td><td>real                          </td><td>real                    </td><td>real              </td><td>real             </td><td>real                        </td><td>real                </td><td>enum    </td><td>enum    </td><td>int               </td><td>enum         </td><td>int               </td><td>enum       </td></tr>\n",
       "<tr><td>mins   </td><td>0.0               </td><td>0.0              </td><td>2.0               </td><td>2.0               </td><td>0.0                           </td><td>0.0                     </td><td>0.0               </td><td>0.0              </td><td>0.0                         </td><td>0.0                 </td><td>        </td><td>        </td><td>19.0              </td><td>             </td><td>8110.0            </td><td>           </td></tr>\n",
       "<tr><td>mean   </td><td>1.3489736070381229</td><td>23.98826979472139</td><td>14.25513196480938 </td><td>39.59237536656885 </td><td>9875.16986803535              </td><td>90.11154168412024       </td><td>13572.842260897332</td><td>170.7575739696971</td><td>3057.4873389243603          </td><td>7758.023994056952   </td><td>        </td><td>        </td><td>40.90175953079178 </td><td>             </td><td>9469.230205278589 </td><td>           </td></tr>\n",
       "<tr><td>maxs   </td><td>9.0               </td><td>53.0             </td><td>31.0              </td><td>73.0              </td><td>55632.25                      </td><td>5200.0                  </td><td>46763.0           </td><td>360.3            </td><td>14882.0                     </td><td>32766.6666667       </td><td>        </td><td>        </td><td>64.0              </td><td>             </td><td>12541.0           </td><td>           </td></tr>\n",
       "<tr><td>sigma  </td><td>1.7920301129950216</td><td>10.70083821756634</td><td>3.7720681135602474</td><td>12.793553371088613</td><td>16390.730010928266            </td><td>513.1390291477372       </td><td>10685.946343329404</td><td>64.39163406921826</td><td>3640.4459823013462          </td><td>4917.7788324726735  </td><td>        </td><td>        </td><td>12.688891038364991</td><td>             </td><td>1301.8358486705074</td><td>           </td></tr>\n",
       "<tr><td>zeros  </td><td>349               </td><td>3                </td><td>0                 </td><td>0                 </td><td>472                           </td><td>660                     </td><td>112               </td><td>3                </td><td>275                         </td><td>3                   </td><td>        </td><td>        </td><td>0                 </td><td>             </td><td>0                 </td><td>           </td></tr>\n",
       "<tr><td>missing</td><td>0                 </td><td>0                </td><td>0                 </td><td>0                 </td><td>0                             </td><td>0                       </td><td>0                 </td><td>0                </td><td>0                           </td><td>0                   </td><td>0       </td><td>0       </td><td>0                 </td><td>0            </td><td>0                 </td><td>0          </td></tr>\n",
       "<tr><td>0      </td><td>3.0               </td><td>26.0             </td><td>12.0              </td><td>41.0              </td><td>21922.3333333                 </td><td>0.0                     </td><td>0.0               </td><td>143.616666667    </td><td>7266.0                      </td><td>4729.775            </td><td>yes     </td><td>M       </td><td>54.0              </td><td>Prague       </td><td>12541.0           </td><td>no_card    </td></tr>\n",
       "<tr><td>1      </td><td>0.0               </td><td>20.0             </td><td>22.0              </td><td>42.0              </td><td>16400.5                       </td><td>0.0                     </td><td>2966.66666667     </td><td>77.04            </td><td>0.0                         </td><td>6068.65             </td><td>no      </td><td>M       </td><td>60.0              </td><td>south Bohemia</td><td>9104.0            </td><td>no_card    </td></tr>\n",
       "<tr><td>2      </td><td>1.0               </td><td>37.0             </td><td>16.0              </td><td>54.0              </td><td>0.0                           </td><td>0.0                     </td><td>25006.5           </td><td>264.283333333    </td><td>2597.8125                   </td><td>11062.0727273       </td><td>yes     </td><td>M       </td><td>37.0              </td><td>north Moravia</td><td>9893.0            </td><td>no_card    </td></tr>\n",
       "<tr><td>3      </td><td>1.0               </td><td>39.0             </td><td>12.0              </td><td>52.0              </td><td>0.0                           </td><td>0.0                     </td><td>25244.6666667     </td><td>117.65           </td><td>1666.0                      </td><td>6104.18181818       </td><td>no      </td><td>M       </td><td>47.0              </td><td>south Bohemia</td><td>8547.0            </td><td>no_card    </td></tr>\n",
       "<tr><td>4      </td><td>1.0               </td><td>30.0             </td><td>16.0              </td><td>47.0              </td><td>14994.5                       </td><td>0.0                     </td><td>2025.0            </td><td>156.3            </td><td>2282.38461538               </td><td>4367.55555556       </td><td>yes     </td><td>M       </td><td>59.0              </td><td>south Bohemia</td><td>8402.0            </td><td>no_card    </td></tr>\n",
       "<tr><td>5      </td><td>4.0               </td><td>34.0             </td><td>12.0              </td><td>50.0              </td><td>44947.5                       </td><td>0.0                     </td><td>0.0               </td><td>192.966666667    </td><td>3419.0                      </td><td>9819.36923077       </td><td>yes     </td><td>M       </td><td>55.0              </td><td>south Bohemia</td><td>8427.0            </td><td>no_card    </td></tr>\n",
       "<tr><td>6      </td><td>0.0               </td><td>45.0             </td><td>13.0              </td><td>58.0              </td><td>0.0                           </td><td>0.0                     </td><td>17018.8571429     </td><td>122.85           </td><td>945.826086957               </td><td>3450.34545455       </td><td>yes     </td><td>M       </td><td>57.0              </td><td>north Moravia</td><td>10673.0           </td><td>classic    </td></tr>\n",
       "<tr><td>7      </td><td>4.0               </td><td>21.0             </td><td>18.0              </td><td>43.0              </td><td>0.0                           </td><td>0.0                     </td><td>23014.1666667     </td><td>137.483333333    </td><td>0.0                         </td><td>6535.324            </td><td>no      </td><td>M       </td><td>32.0              </td><td>east Bohemia </td><td>8254.0            </td><td>no_card    </td></tr>\n",
       "<tr><td>8      </td><td>0.0               </td><td>15.0             </td><td>12.0              </td><td>27.0              </td><td>0.0                           </td><td>0.0                     </td><td>11722.3333333     </td><td>89.9166666667    </td><td>0.0                         </td><td>4365.84             </td><td>yes     </td><td>M       </td><td>49.0              </td><td>south Bohemia</td><td>9104.0            </td><td>classic    </td></tr>\n",
       "<tr><td>9      </td><td>0.0               </td><td>31.0             </td><td>12.0              </td><td>43.0              </td><td>0.0                           </td><td>0.0                     </td><td>25391.1666667     </td><td>202.216666667    </td><td>1708.18181818               </td><td>6291.38             </td><td>yes     </td><td>M       </td><td>46.0              </td><td>north Bohemia</td><td>9198.0            </td><td>classic    </td></tr>\n",
       "</tbody>\n",
       "</table>"
      ]
     },
     "metadata": {},
     "output_type": "display_data"
    }
   ],
   "source": [
    "df.describe()"
   ]
  },
  {
   "cell_type": "code",
   "execution_count": 18,
   "metadata": {
    "collapsed": true
   },
   "outputs": [],
   "source": [
    "y = 'status'\n",
    "x = df.columns\n",
    "x.remove(y)\n"
   ]
  },
  {
   "cell_type": "markdown",
   "metadata": {},
   "source": [
    "# Run AutoML"
   ]
  },
  {
   "cell_type": "markdown",
   "metadata": {},
   "source": [
    "Run AutoML, stopping after 10 models. The max_models argument specifies the number of individual (or \"base\") models, and does not include the two ensemble models that are trained at the end."
   ]
  },
  {
   "cell_type": "code",
   "execution_count": 19,
   "metadata": {},
   "outputs": [
    {
     "name": "stdout",
     "output_type": "stream",
     "text": [
      "AutoML progress: |████████████████████████████████████████████████████████| 100%\n",
      "Parse progress: |█████████████████████████████████████████████████████████| 100%\n"
     ]
    }
   ],
   "source": [
    "aml = H2OAutoML(max_models = 10, seed = 1)\n",
    "aml.train(x = x, y = y, training_frame = df)"
   ]
  },
  {
   "cell_type": "markdown",
   "metadata": {},
   "source": [
    "# Leaderboard"
   ]
  },
  {
   "cell_type": "markdown",
   "metadata": {},
   "source": [
    "\n",
    "\n",
    "Next, we will view the AutoML Leaderboard. Since we did not specify a leaderboard_frame in the H2OAutoML.train() method for scoring and ranking the models, the AutoML leaderboard uses cross-validation metrics to rank the models.\n",
    "\n",
    "A default performance metric for each machine learning task (binary classification, multiclass classification, regression) is specified internally and the leaderboard will be sorted by that metric. In the case of binary classification, the default ranking metric is Area Under the ROC Curve (AUC). In the future, the user will be able to specify any of the H2O metrics so that different metrics can be used to generate rankings on the leaderboard.\n",
    "\n",
    "The leader model is stored at aml.leader and the leaderboard is stored at aml.leaderboard.\n"
   ]
  },
  {
   "cell_type": "code",
   "execution_count": 20,
   "metadata": {
    "collapsed": true
   },
   "outputs": [],
   "source": [
    "lb = aml.leaderboard"
   ]
  },
  {
   "cell_type": "code",
   "execution_count": 21,
   "metadata": {},
   "outputs": [
    {
     "data": {
      "text/html": [
       "<table>\n",
       "<thead>\n",
       "<tr><th>model_id                                             </th><th style=\"text-align: right;\">     auc</th><th style=\"text-align: right;\">  logloss</th></tr>\n",
       "</thead>\n",
       "<tbody>\n",
       "<tr><td>GLM_grid_0_AutoML_20180417_124046_model_0            </td><td style=\"text-align: right;\">0.883499</td><td style=\"text-align: right;\"> 0.24066 </td></tr>\n",
       "<tr><td>StackedEnsemble_BestOfFamily_0_AutoML_20180417_124046</td><td style=\"text-align: right;\">0.872949</td><td style=\"text-align: right;\"> 0.262031</td></tr>\n",
       "<tr><td>GBM_grid_0_AutoML_20180417_124046_model_4            </td><td style=\"text-align: right;\">0.872654</td><td style=\"text-align: right;\"> 0.243919</td></tr>\n",
       "<tr><td>StackedEnsemble_AllModels_0_AutoML_20180417_124046   </td><td style=\"text-align: right;\">0.87248 </td><td style=\"text-align: right;\"> 0.265635</td></tr>\n",
       "<tr><td>GBM_grid_0_AutoML_20180417_124046_model_1            </td><td style=\"text-align: right;\">0.858732</td><td style=\"text-align: right;\"> 0.260635</td></tr>\n",
       "<tr><td>GBM_grid_0_AutoML_20180417_124046_model_3            </td><td style=\"text-align: right;\">0.85649 </td><td style=\"text-align: right;\"> 0.26775 </td></tr>\n",
       "<tr><td>GBM_grid_0_AutoML_20180417_124046_model_2            </td><td style=\"text-align: right;\">0.853883</td><td style=\"text-align: right;\"> 0.266179</td></tr>\n",
       "<tr><td>GBM_grid_0_AutoML_20180417_124046_model_0            </td><td style=\"text-align: right;\">0.84415 </td><td style=\"text-align: right;\"> 0.279918</td></tr>\n",
       "<tr><td>DeepLearning_0_AutoML_20180417_124046                </td><td style=\"text-align: right;\">0.820738</td><td style=\"text-align: right;\"> 0.310753</td></tr>\n",
       "<tr><td>XRT_0_AutoML_20180417_124046                         </td><td style=\"text-align: right;\">0.796632</td><td style=\"text-align: right;\"> 0.499801</td></tr>\n",
       "</tbody>\n",
       "</table>"
      ]
     },
     "metadata": {},
     "output_type": "display_data"
    },
    {
     "data": {
      "text/plain": []
     },
     "execution_count": 21,
     "metadata": {},
     "output_type": "execute_result"
    }
   ],
   "source": [
    "lb.head()"
   ]
  },
  {
   "cell_type": "code",
   "execution_count": 22,
   "metadata": {},
   "outputs": [
    {
     "data": {
      "text/html": [
       "<table>\n",
       "<thead>\n",
       "<tr><th>model_id                                             </th><th style=\"text-align: right;\">     auc</th><th style=\"text-align: right;\">  logloss</th></tr>\n",
       "</thead>\n",
       "<tbody>\n",
       "<tr><td>GLM_grid_0_AutoML_20180417_124046_model_0            </td><td style=\"text-align: right;\">0.883499</td><td style=\"text-align: right;\"> 0.24066 </td></tr>\n",
       "<tr><td>StackedEnsemble_BestOfFamily_0_AutoML_20180417_124046</td><td style=\"text-align: right;\">0.872949</td><td style=\"text-align: right;\"> 0.262031</td></tr>\n",
       "<tr><td>GBM_grid_0_AutoML_20180417_124046_model_4            </td><td style=\"text-align: right;\">0.872654</td><td style=\"text-align: right;\"> 0.243919</td></tr>\n",
       "<tr><td>StackedEnsemble_AllModels_0_AutoML_20180417_124046   </td><td style=\"text-align: right;\">0.87248 </td><td style=\"text-align: right;\"> 0.265635</td></tr>\n",
       "<tr><td>GBM_grid_0_AutoML_20180417_124046_model_1            </td><td style=\"text-align: right;\">0.858732</td><td style=\"text-align: right;\"> 0.260635</td></tr>\n",
       "<tr><td>GBM_grid_0_AutoML_20180417_124046_model_3            </td><td style=\"text-align: right;\">0.85649 </td><td style=\"text-align: right;\"> 0.26775 </td></tr>\n",
       "<tr><td>GBM_grid_0_AutoML_20180417_124046_model_2            </td><td style=\"text-align: right;\">0.853883</td><td style=\"text-align: right;\"> 0.266179</td></tr>\n",
       "<tr><td>GBM_grid_0_AutoML_20180417_124046_model_0            </td><td style=\"text-align: right;\">0.84415 </td><td style=\"text-align: right;\"> 0.279918</td></tr>\n",
       "<tr><td>DeepLearning_0_AutoML_20180417_124046                </td><td style=\"text-align: right;\">0.820738</td><td style=\"text-align: right;\"> 0.310753</td></tr>\n",
       "<tr><td>XRT_0_AutoML_20180417_124046                         </td><td style=\"text-align: right;\">0.796632</td><td style=\"text-align: right;\"> 0.499801</td></tr>\n",
       "<tr><td>DRF_0_AutoML_20180417_124046                         </td><td style=\"text-align: right;\">0.767919</td><td style=\"text-align: right;\"> 0.730321</td></tr>\n",
       "<tr><td>GBM_grid_0_AutoML_20180417_124046_model_5            </td><td style=\"text-align: right;\">0.752312</td><td style=\"text-align: right;\"> 0.332092</td></tr>\n",
       "</tbody>\n",
       "</table>"
      ]
     },
     "metadata": {},
     "output_type": "display_data"
    },
    {
     "data": {
      "text/plain": []
     },
     "execution_count": 22,
     "metadata": {},
     "output_type": "execute_result"
    }
   ],
   "source": [
    "lb.head(rows = lb.nrows)"
   ]
  },
  {
   "cell_type": "markdown",
   "metadata": {},
   "source": [
    "# Save Leader Model"
   ]
  },
  {
   "cell_type": "markdown",
   "metadata": {},
   "source": [
    "There are two ways to save the leader model -- binary format and MOJO format. If you're taking your leader model to production, then we'd suggest the MOJO format since it's optimized for production use.\n"
   ]
  },
  {
   "cell_type": "code",
   "execution_count": 23,
   "metadata": {},
   "outputs": [
    {
     "data": {
      "text/plain": [
       "'/home/kamran/CZ_Credit_Score/CZ_Data/CZ_FINAL_DATA/GLM_grid_0_AutoML_20180417_124046_model_0'"
      ]
     },
     "execution_count": 23,
     "metadata": {},
     "output_type": "execute_result"
    }
   ],
   "source": [
    "h2o.save_model(aml.leader, path = \"/home/kamran/CZ_Credit_Score/CZ_Data/CZ_FINAL_DATA\")"
   ]
  },
  {
   "cell_type": "code",
   "execution_count": 24,
   "metadata": {},
   "outputs": [
    {
     "data": {
      "text/plain": [
       "'/home/kamran/CZ_Credit_Score/CZ_Data/CZ_FINAL_DATA/GLM_grid_0_AutoML_20180417_124046_model_0.zip'"
      ]
     },
     "execution_count": 24,
     "metadata": {},
     "output_type": "execute_result"
    }
   ],
   "source": [
    "aml.leader.download_mojo(path = \"/home/kamran/CZ_Credit_Score/CZ_Data/CZ_FINAL_DATA\")"
   ]
  },
  {
   "cell_type": "code",
   "execution_count": null,
   "metadata": {
    "collapsed": true
   },
   "outputs": [],
   "source": []
  },
  {
   "cell_type": "code",
   "execution_count": null,
   "metadata": {
    "collapsed": true
   },
   "outputs": [],
   "source": []
  },
  {
   "cell_type": "code",
   "execution_count": null,
   "metadata": {
    "collapsed": true
   },
   "outputs": [],
   "source": []
  },
  {
   "cell_type": "code",
   "execution_count": null,
   "metadata": {
    "collapsed": true
   },
   "outputs": [],
   "source": []
  },
  {
   "cell_type": "code",
   "execution_count": null,
   "metadata": {
    "collapsed": true
   },
   "outputs": [],
   "source": []
  },
  {
   "cell_type": "code",
   "execution_count": null,
   "metadata": {
    "collapsed": true
   },
   "outputs": [],
   "source": []
  },
  {
   "cell_type": "code",
   "execution_count": null,
   "metadata": {
    "collapsed": true
   },
   "outputs": [],
   "source": []
  },
  {
   "cell_type": "code",
   "execution_count": null,
   "metadata": {
    "collapsed": true
   },
   "outputs": [],
   "source": []
  },
  {
   "cell_type": "code",
   "execution_count": null,
   "metadata": {
    "collapsed": true
   },
   "outputs": [],
   "source": []
  }
 ],
 "metadata": {
  "kernelspec": {
   "display_name": "Python 3",
   "language": "python",
   "name": "python3"
  },
  "language_info": {
   "codemirror_mode": {
    "name": "ipython",
    "version": 3
   },
   "file_extension": ".py",
   "mimetype": "text/x-python",
   "name": "python",
   "nbconvert_exporter": "python",
   "pygments_lexer": "ipython3",
   "version": "3.6.1"
  }
 },
 "nbformat": 4,
 "nbformat_minor": 2
}
